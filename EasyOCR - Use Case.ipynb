{
 "cells": [
  {
   "cell_type": "markdown",
   "id": "d822fcd5",
   "metadata": {},
   "source": [
    "# Objective:\n",
    "Using OCR technology to read the screenshot of my meso (both red and regular) and exp for each autobattle session\n",
    "Clean the output for analysis\n",
    "\n",
    "Choose to use EasyOCR (b/c it's a simple task) - https://www.jaided.ai/easyocr/documentation/\n",
    "\n",
    "https://cloudinary.com/guides/web-performance/extract-text-from-images-in-python-with-pillow-and-pytesseract\n",
    "some libraries to choose from."
   ]
  },
  {
   "cell_type": "code",
   "execution_count": null,
   "id": "7689e6bb-2c0c-4da0-9d90-4f617053714a",
   "metadata": {},
   "outputs": [],
   "source": [
    "# import all libraries \n",
    "import easyocr\n",
    "import cv2\n",
    "import PIL # this is needed to fix -module 'PIL.Image' has no attribute 'ANTIALIAS'- error\n",
    "from matplotlib import pyplot as plt\n",
    "import numpy as np\n",
    "\n",
    "# Import libraries for mass processing\n",
    "import glob \n",
    "import pandas as pd\n",
    "import datetime"
   ]
  },
  {
   "cell_type": "code",
   "execution_count": null,
   "id": "c67efcfe",
   "metadata": {},
   "outputs": [],
   "source": [
    "# function to check python virtual environment to ensure libraries are installed\n",
    "def checkEnv():\n",
    "    import sys\n",
    "    envpath = (sys.executable)\n",
    "    env = envpath.split('\\\\')             \n",
    "    print(\"Your current python virtual environment is {}\".format(env[5]))\n",
    "# Check for correct environment\n",
    "checkEnv()\n",
    "\n",
    "# function to visualise image using the cv2 library\n",
    "def checkImage(img, result):\n",
    "    for i in range(len(result)):\n",
    "        # top_left, bot_right = tuple(result[i][0][0]), tuple(result[i][0][2])\n",
    "        top_left, bot_right = (int(result[i][0][0][0]),int(result[i][0][0][1])), (int(result[i][0][2][0]),int(result[i][0][2][1]))\n",
    "        img = cv2.rectangle(img, top_left, bot_right, (0,255,128), 3)\n",
    "    return img\n",
    "\n",
    "# Function to calculate the total seconds based on the column - Duration\n",
    "def findTotalSeconds(timestr):\n",
    "    min, sec = int(timestr.split(\":\")[0]), int(timestr.split(\":\")[1])\n",
    "    total = (min * 60) + sec\n",
    "    return total\n"
   ]
  },
  {
   "cell_type": "code",
   "execution_count": null,
   "id": "e6cf48e8",
   "metadata": {},
   "outputs": [],
   "source": []
  },
  {
   "cell_type": "code",
   "execution_count": null,
   "id": "d2314b33-47f8-4ffb-bf08-f9c94c9d04ba",
   "metadata": {},
   "outputs": [],
   "source": []
  },
  {
   "cell_type": "code",
   "execution_count": null,
   "id": "458c9074-dce2-4c3e-8b02-44971494b377",
   "metadata": {},
   "outputs": [],
   "source": [
    "# locate the image\n",
    "image_path = 'ab_04_af30.jpg'\n",
    "# image_path = 'ab_03_sf144.jpg'\n",
    "\n",
    "# Fixes the -module 'PIL.Image' has no attribute 'ANTIALIAS'- error\n",
    "PIL.Image.ANTIALIAS = PIL.Image.LANCZOS \n",
    "\n",
    "# initialise the reader object and read the image\n",
    "reader = easyocr.Reader(['en'], gpu = False)\n",
    "result = reader.readtext(image_path)"
   ]
  },
  {
   "cell_type": "code",
   "execution_count": null,
   "id": "25b4c6c5-77b8-4903-86b8-54b256e9bdf8",
   "metadata": {},
   "outputs": [],
   "source": [
    "display(result[-1][0][0][0])\n",
    "display(int(result[-1][0][0][0]))"
   ]
  },
  {
   "cell_type": "markdown",
   "id": "f7f59c6d-dd06-4ecf-86fc-2249275ada31",
   "metadata": {},
   "source": [
    "# Notice that the non-numerical text have been extracted as well"
   ]
  },
  {
   "cell_type": "code",
   "execution_count": null,
   "id": "a7c491a0-c045-45e4-80fb-993637ced2e7",
   "metadata": {},
   "outputs": [],
   "source": [
    "# Visualise each extracted element of the image using the function - checkImage\n",
    "img = cv2.imread(image_path,1)\n",
    "checked_img = checkImage(img, result)\n",
    "plt.imshow(checked_img)\n",
    "plt.show()"
   ]
  },
  {
   "cell_type": "markdown",
   "id": "8f5de76b-6f31-47bf-8e00-6c44c2cd6e69",
   "metadata": {},
   "source": [
    "# Remove the unnecssary list elements - clean_result \n",
    "The \"clean_result\" list will only contain the following stats:\n",
    "1. \"Auto-Battle\"\n",
    "2. Duration\n",
    "3. Kill Count\n",
    "4. Regular Meso Gained\n",
    "5. Red Meso Gained\n",
    "6. Total Exp Gained\n",
    "\n",
    "# Transform \"clean_result\" to \"Final_result_list\"\n",
    "removes all the unneeded information for a cleaner list"
   ]
  },
  {
   "cell_type": "code",
   "execution_count": null,
   "id": "24e9bf43-e3bb-4a9c-ad79-3352c740ae26",
   "metadata": {},
   "outputs": [],
   "source": [
    "print(\"Length of List: {}\".format(len(result)))\n",
    "for i in range(len(result)):\n",
    "    print(result[i])"
   ]
  },
  {
   "cell_type": "code",
   "execution_count": null,
   "id": "c0e50096-2696-45a7-9fc4-0b32bd3b739e",
   "metadata": {},
   "outputs": [],
   "source": [
    "clean_result = result[:7] # remove the last 4 elements\n",
    "clean_result.pop(5) # remove the 5th element from clean_result\n",
    "print(\"Length of List: {}\".format(len(clean_result)))\n",
    "for i in range(len(clean_result)):\n",
    "    print(clean_result[i])"
   ]
  },
  {
   "cell_type": "code",
   "execution_count": null,
   "id": "66f67697-d0e1-4892-9f60-988253768bb4",
   "metadata": {},
   "outputs": [],
   "source": [
    "# Visualise each extracted element of the image using the function - checkImage\n",
    "img = cv2.imread(image_path,1)\n",
    "checked_img = checkImage(img, clean_result)\n",
    "plt.imshow(checked_img)\n",
    "plt.show()"
   ]
  },
  {
   "cell_type": "code",
   "execution_count": null,
   "id": "41e43eb4-e98d-4bc3-bfca-19e3ec849b1b",
   "metadata": {},
   "outputs": [],
   "source": [
    "for i in range(len(clean_result)):\n",
    "    print(clean_result[i])"
   ]
  },
  {
   "cell_type": "code",
   "execution_count": null,
   "id": "7ea66f4e-b495-4cbd-ac40-e38eb4dbedd1",
   "metadata": {},
   "outputs": [],
   "source": [
    "# initialise empty list\n",
    "info_list = ['Description', 'Duration', 'Kill Count', 'Meso', 'Red Meso', 'Total EXP Gained']\n",
    "final_result_list = []\n",
    "\n",
    "#appends each element (from clean_result) into the empty list\n",
    "for i in range(len(clean_result)):\n",
    "    ele = [info_list[i], clean_result[i][1]]\n",
    "    final_result_list.append(ele)\n",
    "\n",
    "# display final_result_list [description, duration, KC, Reg Meso, Red Meso, EXP]\n",
    "display(final_result_list)"
   ]
  },
  {
   "cell_type": "markdown",
   "id": "a685c609-8c01-484d-bbf0-50dba5f980e2",
   "metadata": {},
   "source": [
    "# Summary of the above:\n",
    "1. Extracts the important statistics from the Autobattle image\n",
    "2. Visualise it for better clarity\n",
    "3. Removed the unnecessary list and list elements\n",
    "4. Results in a clean list of duration, kill count, meso, red meso and exp\n",
    "# Limitations\n",
    "1. Only one image at a time\n",
    "2. Still have to manually take screenshots\n",
    "# Suggestion\n",
    "1. Process multiple image in one go\n",
    "2. Include map name, character class & name, datetime and timestamp\n",
    "3. append the results into a container (dictionary, dataframe)"
   ]
  },
  {
   "cell_type": "code",
   "execution_count": null,
   "id": "9dadf308-bb73-443a-9285-dad669431b26",
   "metadata": {},
   "outputs": [],
   "source": []
  },
  {
   "cell_type": "markdown",
   "id": "af38b213-b702-4085-a9fb-95bb023724c2",
   "metadata": {},
   "source": [
    "# Use Case for EasyOCR\n",
    "Imagine you're interested in gathering information about the meso & exp rates in different Star Force (SF) and Arcane Force(AF) maps.\n",
    "You take a screenshot of each autobattle(AB) but you're too lazy to manually add these figure into a spreadsheet. This is where easyOCR comes in. \n",
    "\n"
   ]
  },
  {
   "cell_type": "code",
   "execution_count": null,
   "id": "69cc9932-2ee3-4197-90cb-8dd4ad264bf9",
   "metadata": {},
   "outputs": [],
   "source": [
    "# Fixes the -module 'PIL.Image' has no attribute 'ANTIALIAS'- error\n",
    "PIL.Image.ANTIALIAS = PIL.Image.LANCZOS \n",
    "\n",
    "# Initialise a list of descriptors \n",
    "info_list = ['Description', 'Duration', 'Kill Count', 'Meso', 'Red Meso', 'Total EXP Gained']\n",
    "\n",
    "# Initialise a empty list, grand_list - this is a list which will contain the list of AB stats\n",
    "grand_list = []\n",
    "\n",
    "# get all the jpg file in the folder - Note: glob doesn't use regex, it follows the rules by unix shell \n",
    "list_of_image =  glob.glob(r'ab_*.jpg')\n",
    "for i in range(len(list_of_image)):\n",
    "    # Split the image name (ab_XX_SFXXX.jpg) and get the SF/AF level in upper case\n",
    "    map_name = list_of_image[i].split(\"_\")[-1].split(\".\")[0].upper()\n",
    "\n",
    "    print(\"File Name: {},{} Map Name: {} \".format(list_of_image[i], map_name))\n",
    "    \n",
    "    # initialise the reader object and read the image\n",
    "    reader = easyocr.Reader(['en'], gpu = False)\n",
    "    result = reader.readtext(list_of_image[i])\n",
    "\n",
    "    # # Visualise each extracted element of the image using the function - checkImage\n",
    "    # img = cv2.imread(list_of_image[i],1)\n",
    "    # checked_img = checkImage(img, result)\n",
    "    # plt.imshow(checked_img)\n",
    "    # plt.show()\n",
    "    \n",
    "    # Only keep the first 6 elements\n",
    "    clean_result = result[:7]\n",
    "    # remove the 5th element (\"EXP\") from clean_result\n",
    "    clean_result.pop(5)\n",
    "\n",
    "    final_result_list = []\n",
    "    #appends each element (from clean_result) into the empty list\n",
    "    for i in range(len(clean_result)):\n",
    "        ele = [info_list[i], clean_result[i][1]]\n",
    "        final_result_list.append(ele)\n",
    "    # append the map name into final_result_list\n",
    "    final_result_list.append(['Map', map_name])\n",
    "    \n",
    "    # display final_result_list [description, duration, KC, Reg Meso, Red Meso, EXP, Map]\n",
    "    display(final_result_list)\n",
    "\n",
    "    # append final_result_list into grand_list\n",
    "    grand_list.append(final_result_list)"
   ]
  },
  {
   "cell_type": "markdown",
   "id": "f2d1037d-49ce-400f-a65b-413ccb4a0ea5",
   "metadata": {},
   "source": [
    "# Now we need to manipulate \"grand_list\" into a suitable format \n",
    "1. Remove the 1st element of each inner list - [\"Description\",\"Auto-Battle Results\"]\n",
    "2. extract the values (2nd element) and append it into a single list\n",
    "3. The result is a list of list, with each inner list only containing values."
   ]
  },
  {
   "cell_type": "code",
   "execution_count": null,
   "id": "9d1ec646-241f-494f-b00d-4fc7ad12afb0",
   "metadata": {},
   "outputs": [],
   "source": [
    "print(len(grand_list))\n",
    "new_grand_list = []\n",
    "for inner_list in grand_list:\n",
    "    # new list to only store values\n",
    "    new_inner_list = []\n",
    "    # Removes the first element of the inner list\n",
    "    inner_list = inner_list[1:]\n",
    "    # extract values and append to new_inner_list\n",
    "    for i in range(len(inner_list)):\n",
    "        # Check for the first element, replace the last third element with \":\"\n",
    "        if i == 0:\n",
    "            duration = inner_list[0][1].replace(inner_list[0][1][-3],':')\n",
    "            new_inner_list.append(duration)\n",
    "        else:\n",
    "            new_inner_list.append(inner_list[i][1].replace(',',''))\n",
    "    #append new_inner_list into new_grand_list\n",
    "    new_grand_list.append(new_inner_list)\n",
    "\n",
    "# display new_grand_list to check if everything is in order\n",
    "display(new_grand_list)"
   ]
  },
  {
   "cell_type": "markdown",
   "id": "85973244-0974-436c-a251-b41533a5c15c",
   "metadata": {},
   "source": [
    "# Transform new_grand_list into a Dataframe\n",
    "1. columns is a list of Dataframe headers\n",
    "2. new_grand_list is the content of the Dataframe\n",
    "3. The name of the Dataframe is dfABstats"
   ]
  },
  {
   "cell_type": "code",
   "execution_count": null,
   "id": "01750d85-fc5e-48cb-9540-aa1e3b3d6de1",
   "metadata": {},
   "outputs": [],
   "source": [
    "# List of Dataframe column headers\n",
    "columns = ['Duration','Kill Count','Meso','Red Meso','Total Exp', 'Map']\n",
    "\n",
    "# Create a Dataframe from new_grand_list\n",
    "dfABstats = pd.DataFrame(new_grand_list, columns = columns)\n",
    "\n",
    "# Change the datatype of each column into the appropriate datatype\n",
    "dfABstats = dfABstats.astype({'Kill Count': 'int64',\n",
    "                              'Meso': 'int64',\n",
    "                              'Red Meso': 'int64',\n",
    "                              'Total Exp': 'int64',\n",
    "                              'Map': 'str'})\n",
    "dfABstats['total_seconds'] = dfABstats['Duration'].apply(findTotalSeconds)\n",
    "\n",
    "display(dfABstats.dtypes)\n",
    "display(dfABstats)"
   ]
  },
  {
   "cell_type": "markdown",
   "id": "600884d4-1973-4d47-8c41-bddc3413f5da",
   "metadata": {},
   "source": [
    "# Suppose now you have your Dataframe, where can you save it? such that you can append new Dataframes to it and save it?\n",
    "1. Either Excel Spreadsheet, CSV file or even into a RDBMS"
   ]
  },
  {
   "cell_type": "code",
   "execution_count": null,
   "id": "198e093b-5e97-446e-b012-efbbd61893a3",
   "metadata": {},
   "outputs": [],
   "source": []
  }
 ],
 "metadata": {
  "kernelspec": {
   "display_name": "Python 3 (ipykernel)",
   "language": "python",
   "name": "python3"
  },
  "language_info": {
   "codemirror_mode": {
    "name": "ipython",
    "version": 3
   },
   "file_extension": ".py",
   "mimetype": "text/x-python",
   "name": "python",
   "nbconvert_exporter": "python",
   "pygments_lexer": "ipython3",
   "version": "3.9.19"
  }
 },
 "nbformat": 4,
 "nbformat_minor": 5
}
